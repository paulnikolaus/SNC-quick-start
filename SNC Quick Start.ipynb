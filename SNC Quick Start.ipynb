{
 "cells": [
  {
   "cell_type": "markdown",
   "metadata": {},
   "source": [
    "# Quick Start to Stochastic Network Calculus"
   ]
  },
  {
   "cell_type": "markdown",
   "metadata": {},
   "source": [
    "In this short tutorial, we show how to obtain delay bounds in the stochastic network calculus (SNC) with moment-generating functions (MGF).\n",
    "Throughout this tutorial, we assume arrivals and service to be $(\\sigma, \\rho)$-bounded, as it allows for closed-form solutions of all operators and performance bounds."
   ]
  },
  {
   "cell_type": "code",
   "execution_count": 1,
   "metadata": {
    "collapsed": false
   },
   "outputs": [],
   "source": [
    "import math\n",
    "import numpy as np\n",
    "from abc import abstractmethod, ABC"
   ]
  },
  {
   "cell_type": "markdown",
   "metadata": {},
   "source": [
    "# Traffic Classes\n",
    "\n",
    "Let us dive in immediately into the coding. \n",
    "At first, we write down an abstract class \"Arrivals\".\n",
    "All traffic classes inherit from it."
   ]
  },
  {
   "cell_type": "code",
   "execution_count": 2,
   "metadata": {
    "ExecuteTime": {
     "end_time": "2019-12-09T14:19:24.977571Z",
     "start_time": "2019-12-09T14:19:24.959497Z"
    }
   },
   "outputs": [],
   "source": [
    "class Arrival(ABC):\n",
    "    \"\"\"Abstract Arrival class.\"\"\"\n",
    "\n",
    "    @abstractmethod\n",
    "    def sigma(self, theta: float) -> float:\n",
    "        \"\"\"\n",
    "        sigma(theta)\n",
    "        :param theta: mgf parameter\n",
    "        \"\"\"\n",
    "        pass\n",
    "\n",
    "    @abstractmethod\n",
    "    def rho(self, theta: float) -> float:\n",
    "        \"\"\"\n",
    "        rho(theta)\n",
    "        :param theta: mgf parameter\n",
    "        \"\"\"\n",
    "        pass"
   ]
  },
  {
   "cell_type": "markdown",
   "metadata": {},
   "source": [
    "We see that both methods take $\\theta$ as an argument and return a float.\n",
    "\n",
    "Similarly, we implement an abstract class for a server."
   ]
  },
  {
   "cell_type": "code",
   "execution_count": 3,
   "metadata": {
    "ExecuteTime": {
     "end_time": "2019-12-09T14:19:24.994983Z",
     "start_time": "2019-12-09T14:19:24.985333Z"
    }
   },
   "outputs": [],
   "source": [
    "class Server(ABC):\n",
    "    \"\"\"Abstract Server class\"\"\"\n",
    "\n",
    "    @abstractmethod\n",
    "    def sigma(self, theta: float) -> float:\n",
    "        \"\"\"Sigma method\"\"\"\n",
    "        pass\n",
    "\n",
    "    @abstractmethod\n",
    "    def rho(self, theta: float) -> float:\n",
    "        \"\"\"Rho method\"\"\"\n",
    "        pass"
   ]
  },
  {
   "attachments": {},
   "cell_type": "markdown",
   "metadata": {},
   "source": [
    "Now, we can already implement traffic classes.\n",
    "In order to keep it simple, we start with i.i.d. exponentially distributed packet sizes for the arrivals.\n",
    "A well-known result yields for this traffic class, that we have with $A(s,t)=\\sum_{i=s+1}^{t} a_i$ and $0 < \\theta < \\lambda$\n",
    "\\begin{align*}\n",
    "\\mathrm{E}\\left[e^{\\theta A(s,t)}\\right] &= \\left(\\frac{\\lambda}{\\lambda-\\theta}\\right)^{t-s}\\\\\n",
    "&= e^{\\log\\left(\\frac{\\lambda}{\\lambda-\\theta}\\right) \\cdot (t-s)}\\\\\n",
    "&= e^{\\theta \\frac{1}{\\theta}\\log\\left(\\frac{\\lambda}{\\lambda-\\theta}\\right) \\cdot (t-s)}\\\\\n",
    "&= e^{\\theta \\rho_A(\\theta) \\cdot (t-s) + \\theta \\sigma_A(\\theta)},\n",
    "\\end{align*}\n",
    "where\n",
    "\\begin{align*}\n",
    "\\sigma_A(\\theta) &= 0,\\\\\n",
    "\\rho_A(\\theta) &= \\frac{1}{\\theta} \\log\\left(\\frac{\\lambda}{\\lambda-\\theta}\\right).\n",
    "\\end{align*}\n",
    "In our implementation, this yields"
   ]
  },
  {
   "cell_type": "code",
   "execution_count": 4,
   "metadata": {
    "ExecuteTime": {
     "end_time": "2019-12-09T14:19:25.017985Z",
     "start_time": "2019-12-09T14:19:25.000965Z"
    }
   },
   "outputs": [],
   "source": [
    "class ParameterOutOfBounds(Exception):\n",
    "    \"\"\"Exception if input parameter is not feasible in the optimization\"\"\"\n",
    "\n",
    "    def __init__(self, parameter):\n",
    "        msg = \"Parameter is out of bounds, {0}\".format(parameter)\n",
    "        super(ParameterOutOfBounds, self).__init__(msg)\n",
    "        self.parameter = parameter"
   ]
  },
  {
   "cell_type": "code",
   "execution_count": 5,
   "metadata": {
    "ExecuteTime": {
     "end_time": "2019-12-09T14:19:25.043816Z",
     "start_time": "2019-12-09T14:19:25.026404Z"
    }
   },
   "outputs": [],
   "source": [
    "class ExponentialDist(Arrival):\n",
    "    \"\"\"Exponential distribution.\"\"\"\n",
    "\n",
    "    def __init__(self, lamb: float, n=1) -> None:\n",
    "        self.lamb = lamb\n",
    "        self.n = n\n",
    "\n",
    "    def sigma(self, theta=0.0) -> float:\n",
    "        \"\"\"\n",
    "\n",
    "        :param theta: mgf parameter\n",
    "        :return:      sigma(theta)\n",
    "        \"\"\"\n",
    "        return 0.0\n",
    "\n",
    "    def rho(self, theta: float) -> float:\n",
    "        \"\"\"\n",
    "        rho(theta)\n",
    "        :param theta: mgf parameter\n",
    "        \"\"\"\n",
    "        if theta <= 0:\n",
    "            raise ParameterOutOfBounds(f\"theta = {theta} must be > 0\")\n",
    "\n",
    "        if theta >= self.lamb:\n",
    "            raise ParameterOutOfBounds(f\"theta = {theta} must be < lambda = {self.lamb}\")\n",
    "\n",
    "        return (self.n / theta) * math.log(self.lamb / (self.lamb - theta))"
   ]
  },
  {
   "attachments": {},
   "cell_type": "markdown",
   "metadata": {},
   "source": [
    "This class has to inherit from the class Arrival().\n",
    "Further, we add the parameter $n$ to allow for an aggregate of independent arrivals.\n",
    "Also, we check whether $0<\\theta<\\lambda$, since otherwise, the MGF does not exist.\n",
    "In order to handle these cases (we will see below that it has practical advantages), we write our own class for these errors.\n",
    "\n",
    "For a constant-rate server, we proceed similarly.\n",
    "We know that for the service process $S(s,t) = c \\cdot (t-s)$ with $c \\geq 0$, it is $(\\sigma_S, \\rho_S)$-bounded with\n",
    "\\begin{align*}\n",
    "    \\sigma(-\\theta) =& 0,\\\\\n",
    "    \\rho(-\\theta) =& c.\n",
    "\\end{align*}\n",
    "Note that in this case, $S(s,t)$ is deterministic.\n",
    "With respect to the code, this means    "
   ]
  },
  {
   "cell_type": "code",
   "execution_count": 6,
   "metadata": {
    "ExecuteTime": {
     "end_time": "2019-12-09T14:19:25.066108Z",
     "start_time": "2019-12-09T14:19:25.055226Z"
    }
   },
   "outputs": [],
   "source": [
    "class ConstantRateServer(Server):\n",
    "    \"\"\"Constant-rate service\"\"\"\n",
    "\n",
    "    def __init__(self, rate: float) -> None:\n",
    "        self.rate = rate\n",
    "\n",
    "    def sigma(self, theta=0.0) -> float:\n",
    "        return 0.0\n",
    "\n",
    "    def rho(self, theta: float) -> float:\n",
    "        if theta <= 0:\n",
    "            raise ParameterOutOfBounds(f\"theta = {theta} must be > 0\")\n",
    "\n",
    "        return self.rate"
   ]
  },
  {
   "attachments": {},
   "cell_type": "markdown",
   "metadata": {},
   "source": [
    "# Single Server Analysis\n",
    "\n",
    "Now, we can derive for single flow - single server topologies as in \n",
    "\n",
    "![1-input-1-output](figures/1-input-1-output.png)\n",
    "\n",
    "However, this is the most important topology, as we reduce any feed-forward to this network by using the end-to-end service.\n",
    "\n",
    "Now, we can use this to compute performance bounds.\n",
    "From SNC theory, we know that, if arrivals and service are $(\\sigma, \\rho)$-bounded and the stability condition holds, i.e., \n",
    "\\begin{equation*}\n",
    "\t\t\\rho_A(\\theta) < \\rho_S(-\\theta),\n",
    "\\end{equation*}\n",
    "then the violation probability of the virtual delay is bounded by\n",
    "\\begin{equation*}\n",
    "\\mathrm{P}(d(t)>T) \\leq e^{-\\theta \\rho_{S}(-\\theta)T} \\frac{e^{\\theta\\left(\\sigma_{A}(\\theta)+\\sigma_{S}(-\\theta)\\right)}}{\\theta\\left(\\rho_{S}(-\\theta) - \\rho_{A}(\\theta)\\right)}.\n",
    "\\end{equation*}\n",
    "Code-wise, this yields"
   ]
  },
  {
   "cell_type": "code",
   "execution_count": 7,
   "metadata": {
    "ExecuteTime": {
     "end_time": "2019-12-09T14:19:25.087418Z",
     "start_time": "2019-12-09T14:19:25.072926Z"
    }
   },
   "outputs": [],
   "source": [
    "def delay_prob(arr: Arrival, ser: Server, theta: float, T: int) -> float:\n",
    "    \"\"\"Implements stationary standard_bound method\"\"\"\n",
    "    if arr.rho(theta) >= ser.rho(theta):\n",
    "        raise ParameterOutOfBounds(\"System is not stable\")\n",
    "\n",
    "    return math.exp(-theta * ser.rho(theta) * T) * math.exp(theta * (\n",
    "        arr.sigma(theta) + ser.sigma(theta))) / (theta * (ser.rho(theta) - arr.rho(theta)))"
   ]
  },
  {
   "attachments": {},
   "cell_type": "markdown",
   "metadata": {},
   "source": [
    "For the exponentially distributed arrival increments with $\\lambda=2.0$ and a constant-rate server with rate $1.0$, the probability that the delay is larger than 5 for $\\theta=1.0$ is therefore upper bounded by"
   ]
  },
  {
   "cell_type": "code",
   "execution_count": 8,
   "metadata": {
    "ExecuteTime": {
     "end_time": "2019-12-09T14:19:25.130079Z",
     "start_time": "2019-12-09T14:19:25.114171Z"
    }
   },
   "outputs": [
    {
     "name": "stdout",
     "output_type": "stream",
     "text": [
      "bound on delay's violation probability: 0.021958237214117434\n"
     ]
    }
   ],
   "source": [
    "DELAY_PROB = delay_prob(arr=ExponentialDist(lamb=2.0), ser=ConstantRateServer(1.0), theta=1.0, T=5)\n",
    "print(f\"bound on delay's violation probability: {DELAY_PROB}\")"
   ]
  },
  {
   "attachments": {},
   "cell_type": "markdown",
   "metadata": {},
   "source": [
    "Of course, since the bound is valid for all $\\theta>0,$ it is desirable to optimize the bound in $\\theta$.\n",
    "A very simplistic approach is to try many values and take the minimum."
   ]
  },
  {
   "cell_type": "code",
   "execution_count": 9,
   "metadata": {
    "ExecuteTime": {
     "end_time": "2019-12-09T14:19:25.390196Z",
     "start_time": "2019-12-09T14:19:25.158862Z"
    }
   },
   "outputs": [
    {
     "name": "stdout",
     "output_type": "stream",
     "text": [
      "bound on delay violation probability: 0.004651813552802688\n",
      "optimal theta: 1.4000000000000001\n"
     ]
    }
   ],
   "source": [
    "OPTIMUM = np.inf\n",
    "OPT_THETA = 0.0\n",
    "for THETA in np.arange(0.1, 5.0, 0.1):\n",
    "    try:\n",
    "        CANDIDATE = delay_prob(arr=ExponentialDist(lamb=2.0),\n",
    "                               ser=ConstantRateServer(rate=1.0),\n",
    "                               theta=THETA, T=5)\n",
    "    except ParameterOutOfBounds:\n",
    "        CANDIDATE = np.inf\n",
    "    \n",
    "    if CANDIDATE < OPTIMUM:\n",
    "        OPTIMUM = CANDIDATE\n",
    "        OPT_THETA = THETA\n",
    "        \n",
    "print(f\"bound on delay violation probability: {OPTIMUM}\")\n",
    "print(f\"optimal theta: {OPT_THETA}\")"
   ]
  },
  {
   "attachments": {},
   "cell_type": "markdown",
   "metadata": {},
   "source": [
    "Vice versa, we can also derive a stochastic delay bound for a given violation probability (under stability):\n",
    "\\begin{equation*}\n",
    "T_\\varepsilon =\\frac{\\sigma_{A}(\\theta)+\\sigma_{S}(-\\theta)}{\\rho_{S}(-\\theta)} + \\frac{1}{\\theta \\rho_{S}(-\\theta)} \\log\\left(\\frac{1}{\\varepsilon \\cdot \\theta\\left(\\rho_{S}(-\\theta)-\\rho_{A}(\\theta)\\right)}\\right).\n",
    "\\end{equation*}\n",
    "In Python, this yields"
   ]
  },
  {
   "cell_type": "code",
   "execution_count": 10,
   "metadata": {
    "ExecuteTime": {
     "end_time": "2019-12-09T14:19:25.400558Z",
     "start_time": "2019-12-09T14:19:25.392592Z"
    }
   },
   "outputs": [],
   "source": [
    "def delay(arr: Arrival,\n",
    "          ser: Server,\n",
    "          theta: float,\n",
    "          epsilon: float) -> float:\n",
    "    \"\"\"Implements stationary standard_bound method\"\"\"\n",
    "    if arr.rho(theta) >= ser.rho(theta):\n",
    "        raise ParameterOutOfBounds(\"System is not stable\")\n",
    "\n",
    "    log_part = math.log(epsilon * theta * (ser.rho(theta) - arr.rho(theta)))\n",
    "    return (arr.sigma(theta) + ser.sigma(theta) - log_part / theta) / ser.rho(theta=theta)"
   ]
  },
  {
   "cell_type": "markdown",
   "metadata": {},
   "source": [
    "For the traffic classes and parameter from above and violation probability 0.005, we compute"
   ]
  },
  {
   "cell_type": "code",
   "execution_count": 11,
   "metadata": {
    "ExecuteTime": {
     "end_time": "2019-12-09T14:19:25.419996Z",
     "start_time": "2019-12-09T14:19:25.403433Z"
    }
   },
   "outputs": [
    {
     "name": "stdout",
     "output_type": "stream",
     "text": [
      "Stochastic delay bound for epsilon = 0.005: 4.948442316061373\n"
     ]
    }
   ],
   "source": [
    "OPTIMUM = np.inf\n",
    "EPSILON = 0.005\n",
    "\n",
    "for THETA in np.arange(0.1, 5.0, 0.1):\n",
    "    try:\n",
    "        CANDIDATE = delay(arr=ExponentialDist(lamb=2.0),\n",
    "                          ser=ConstantRateServer(rate=1.0),\n",
    "                          theta=THETA, epsilon=EPSILON)\n",
    "    except ParameterOutOfBounds:\n",
    "        CANDIDATE = np.inf\n",
    "    \n",
    "    if CANDIDATE < OPTIMUM:\n",
    "        OPTIMUM = CANDIDATE\n",
    "        \n",
    "print(f\"Stochastic delay bound for epsilon = {EPSILON}: {OPTIMUM}\")"
   ]
  },
  {
   "attachments": {},
   "cell_type": "markdown",
   "metadata": {},
   "source": [
    "Of course, we are not limited to exponentially distributed arrivals systems.\n",
    "For example, we can use Markov-modulated on-off (MMOO) traffic with transition matrix \n",
    "\\begin{equation*}\n",
    "P:=\\begin{pmatrix}\n",
    "\tp_{00} & p_{01}\\\\\n",
    "\tp_{10} & p_{11}\n",
    "\t\\end{pmatrix}.\n",
    "\\end{equation*}\n",
    "In state $0$, no data is sent, whereas in state $1$, traffic with rate $b$ is sent.\n",
    "This is known to be $(\\sigma,\\rho)$-bounded with\n",
    "\\begin{align*}\n",
    "\t\\sigma_A(\\theta) =& 0,\\\\\n",
    "\t\\rho_A(\\theta) =& \\frac{1}{\\theta}\\log\\left(\\frac{p_{00}+p_{11}e^{b \\theta}+\\sqrt{\\left(p_{00}+p_{11}e^{b \\theta}\\right)^{2}-4\\left(p_{00}+p_{11}-1\\right)e^{b \\theta}}}{2}\\right).\n",
    "\\end{align*}"
   ]
  },
  {
   "cell_type": "code",
   "execution_count": 12,
   "metadata": {
    "ExecuteTime": {
     "end_time": "2019-12-09T14:19:25.441988Z",
     "start_time": "2019-12-09T14:19:25.424836Z"
    }
   },
   "outputs": [],
   "source": [
    "class MMOO(Arrival):\n",
    "    \"\"\"Discrete Markov Modulated On-Off Traffic\"\"\"\n",
    "    def __init__(self, stay_on: float, stay_off: float, b: float, n=1) -> None:\n",
    "        self.stay_on = stay_on\n",
    "        self.stay_off = stay_off\n",
    "        self.b = b\n",
    "        self.n = n\n",
    "\n",
    "    def sigma(self, theta=0.0) -> float:\n",
    "        return 0.0\n",
    "\n",
    "    def rho(self, theta: float) -> float:\n",
    "        if theta <= 0:\n",
    "            raise ParameterOutOfBounds(f\"theta = {theta} must be > 0\")\n",
    "\n",
    "        if self.stay_on <= 0.0 or self.stay_on >= 1.0:\n",
    "            raise ValueError(f\"p_stay_on = {self.stay_on} must be in (0,1)\")\n",
    "\n",
    "        if self.stay_off <= 0.0 or self.stay_off >= 1.0:\n",
    "            raise ValueError(f\"p_stay_off = {self.stay_off} must be in (0,1)\")\n",
    "\n",
    "        off_on = self.stay_off + self.stay_on * math.exp(theta * self.b)\n",
    "        sqrt_part = math.sqrt(off_on**2 - 4 * (self.stay_off + self.stay_on - 1) * math.exp(theta * self.b))\n",
    "\n",
    "        rho_mmoo_disc = math.log(0.5 * (off_on + sqrt_part))\n",
    "\n",
    "        if rho_mmoo_disc < 0:\n",
    "            raise ParameterOutOfBounds(\"rho must be >= 0\")\n",
    "\n",
    "        return rho_mmoo_disc / theta"
   ]
  },
  {
   "cell_type": "code",
   "execution_count": 13,
   "metadata": {
    "ExecuteTime": {
     "end_time": "2019-12-09T14:19:25.455689Z",
     "start_time": "2019-12-09T14:19:25.446939Z"
    }
   },
   "outputs": [
    {
     "name": "stdout",
     "output_type": "stream",
     "text": [
      "Stochastic delay bound = 33.684406972667176\n"
     ]
    }
   ],
   "source": [
    "OPTIMUM = np.inf\n",
    "for THETA in np.arange(0.1, 5.0, 0.1):\n",
    "    try:\n",
    "        CANDIDATE = delay(arr=MMOO(stay_on=0.5, stay_off=0.7, b=2.0),\n",
    "                          ser=ConstantRateServer(rate=1.0),\n",
    "                          theta=THETA, epsilon=0.005)\n",
    "    except ParameterOutOfBounds:\n",
    "        CANDIDATE = np.inf\n",
    "    \n",
    "    if CANDIDATE < OPTIMUM:\n",
    "        OPTIMUM = CANDIDATE\n",
    "        \n",
    "print(f\"Stochastic delay bound = {OPTIMUM}\")"
   ]
  },
  {
   "attachments": {},
   "cell_type": "markdown",
   "metadata": {},
   "source": [
    "# Simple Tandem Analysis\n",
    "\n",
    "In this section, we show how to compute performance for network of the form\n",
    "\n",
    "![1-input-2-server](figures/1-input-2-server.png)\n",
    "\n",
    "Therefore, we need the concatenation theorem:\n",
    "\n",
    "Assume above topology, where the arrivals of $f_1$ are $A_\\mathrm{e2e} = A_1.$\n",
    "We denote by $D_1 = A_2$ the output of $S_1$, which equals the input at $S_2$, and by $D_\\mathrm{e2e} = D_2$ the departures of $S_2.$\n",
    "Further, we assume the servers to be dynamic $S_1$- and $S_2$-servers, respectively.\n",
    "Then the end-to-end service, $S_\\mathrm{e2e},$ is a dynamic $S_1 \\otimes S_2$-server.\n",
    "\n",
    "Under the additional assumption of independent $\\left(\\sigma_{S_1}, \\rho_{S_1}\\right)$ and $\\left(\\sigma_{S_2}, \\rho_{S_2}\\right)$-constrained servers, the end-to-end service is $\\left(\\sigma_{S_\\mathrm{e2e}}, \\rho_{S_\\mathrm{e2e}}\\right)$-bounded, where\n",
    "\\begin{align*}\n",
    "\\sigma_{S_\\mathrm{e2e}}(-\\theta) =& \\sigma_{S_{1}}(-\\theta)+\\sigma_{S_{2}}(-\\theta) + \\frac{1}{\\theta}\\log\\left(\\frac{1}{1-e^{-\\theta\\left|\\rho_{S_{2}}(-\\theta)-\\rho_{S_{1}}(-\\theta)\\right|}}\\right),\\\\\n",
    "\\rho_{S_\\mathrm{e2e}}(-\\theta) =& \\min\\left\\{ \\rho_{S_{1}}(-\\theta),\\rho_{S_2}(-\\theta)\\right\\}\n",
    "\\end{align*}\n",
    "in case $\\rho_{S_{1}}(-\\theta) \\neq \\rho_{S_{2}}(-\\theta),$ and\n",
    "\\begin{align*}\n",
    "    \\sigma_{S_\\mathrm{e2e}}(-\\theta) &= \\sigma_{S_1}(-\\theta)+\\sigma_{S_2}(-\\theta) + \\frac{1}{\\theta} \\log \\left(\\frac{1}{1-e^{-\\theta \\delta}}\\right),\\\\\n",
    "    \\rho_{S_\\mathrm{e2e}}(-\\theta) &= \\rho_{S_1}(-\\theta) - \\delta,\n",
    "\\end{align*}\n",
    "\tif $ \\rho_{S_{1}}(-\\theta) = \\rho_{S_{2}}(-\\theta), $ where $ 0 < \\delta < \\rho_{S_1}(-\\theta). $\n",
    "\n",
    "In Python, this can be implemented as follows:"
   ]
  },
  {
   "cell_type": "code",
   "execution_count": 14,
   "metadata": {
    "ExecuteTime": {
     "end_time": "2019-12-09T14:19:25.478362Z",
     "start_time": "2019-12-09T14:19:25.459203Z"
    }
   },
   "outputs": [],
   "source": [
    "class Convolve(Server):\n",
    "    \"\"\"Convolution class.\"\"\"\n",
    "\n",
    "    def __init__(self, ser1: Server, ser2: Server, delta: float) -> None:\n",
    "        self.ser1 = ser1\n",
    "        self.ser2 = ser2\n",
    "        self.delta = delta\n",
    "\n",
    "    def sigma(self, theta: float) -> float:\n",
    "        ser_1_sigma = self.ser1.sigma(theta)\n",
    "        ser_2_sigma = self.ser2.sigma(theta)\n",
    "\n",
    "        ser_1_rho = self.ser1.rho(theta)\n",
    "        ser_2_rho = self.ser2.rho(theta)\n",
    "\n",
    "        if ser_1_rho!= ser_2_rho:\n",
    "            return ser_1_sigma + ser_2_sigma - math.log(1 - math.exp(\n",
    "                -theta * abs(ser_1_rho - ser_2_rho))) / theta\n",
    "\n",
    "        else:\n",
    "            return ser_1_sigma + ser_2_sigma - math.log(1 - math.exp(-theta * self.delta)) / theta\n",
    "\n",
    "    def rho(self, theta: float) -> float:\n",
    "        ser_1_rho = self.ser1.rho(theta)\n",
    "        ser_2_rho = self.ser2.rho(theta)\n",
    "\n",
    "        if ser_1_rho < 0 or ser_2_rho < 0:\n",
    "            raise ParameterOutOfBounds(\"The rhos must be > 0\")\n",
    "\n",
    "        if ser_1_rho != ser_2_rho:\n",
    "            return min(ser_1_rho, ser_2_rho)\n",
    "\n",
    "        else:\n",
    "            return ser_1_rho - self.delta"
   ]
  },
  {
   "attachments": {},
   "cell_type": "markdown",
   "metadata": {},
   "source": [
    "Observe that the convolution of two service processes is, again, a service process.\n",
    "Hence, the class Convolve() inherits from the class Server().\n",
    "Consider again exponentially distributed arrival increments with $\\lambda=2.0$ and server rates $c_1=2.0$, $c_2=1.5$.\n",
    "Then, we compute"
   ]
  },
  {
   "cell_type": "code",
   "execution_count": 15,
   "metadata": {
    "ExecuteTime": {
     "end_time": "2019-12-09T14:19:25.502591Z",
     "start_time": "2019-12-09T14:19:25.484292Z"
    }
   },
   "outputs": [
    {
     "name": "stdout",
     "output_type": "stream",
     "text": [
      "Stochastic delay bound for epsilon = 0.005: 2.463636565227023\n",
      "optimal theta: 1.7000000000000002\n",
      "optimal delta: 0.001\n"
     ]
    }
   ],
   "source": [
    "OPTIMUM = np.inf\n",
    "OPT_THETA = np.inf\n",
    "OPT_DELTA = np.inf\n",
    "EPSILON = 0.005\n",
    "\n",
    "for THETA in np.arange(0.1, 5.0, 0.1):\n",
    "    for DELTA in np.arange(0.001, 0.1, 0.001):\n",
    "        try:\n",
    "            CONCATENATED_SERVERS = Convolve(ser1=ConstantRateServer(rate=2.0),\n",
    "                                ser2=ConstantRateServer(rate=1.5),\n",
    "                                delta=DELTA)\n",
    "\n",
    "            CANDIDATE = delay(arr=ExponentialDist(lamb=2.0),\n",
    "                            ser=CONCATENATED_SERVERS,\n",
    "                            theta=THETA, epsilon=EPSILON)\n",
    "        except ParameterOutOfBounds:\n",
    "            CANDIDATE = np.inf\n",
    "        \n",
    "        if CANDIDATE < OPTIMUM:\n",
    "            OPTIMUM = CANDIDATE\n",
    "            OPT_THETA = THETA\n",
    "            OPT_DELTA = DELTA\n",
    "        \n",
    "print(f\"Stochastic delay bound for epsilon = {EPSILON}: {OPTIMUM}\")\n",
    "print(f\"optimal theta: {OPT_THETA}\")\n",
    "print(f\"optimal delta: {OPT_DELTA}\")"
   ]
  },
  {
   "attachments": {},
   "cell_type": "markdown",
   "metadata": {},
   "source": [
    "# Leftover Service for Arbitrary Multiplexing\n",
    "![2-input-1-server](figures/2-input-1-server.png)\n",
    "\n",
    "In this section, we want to compute the leftover service for the flow of interest.\n",
    "The code is based on the following theorem.\n",
    "\n",
    "Consider two flows, $f_1$ and $f_2,$ with respective arrival processes $A_1(s,t)$ and $A_2(s,t)$, that receive service process $S(s, t)$.\n",
    "Further, we assume $f_1$ to be our foi and the scheduling to be *arbitrary multiplexing*.\n",
    "If the server is work-conserving, then the foi sees the dynamic $S$-server\n",
    "\\begin{equation*}\n",
    "S_{\\mathrm{l.o.}}^{\\mathrm{ARB}}(s,t) = S_{\\mathrm{l.o.}}(s,t) = \\left[S(s,t) - A_2(s,t)\\right]^+, \\quad 0 \\leq s \\leq t\n",
    "\\end{equation*}\n",
    "the so-called leftover service.\n",
    "This is also denoted by $S_{\\mathrm{l.o.}} = S \\ominus A_2.$\n",
    "\n",
    "Let $\\theta >0.$\n",
    "If we further assume the arrival process $A_2$ and the service process to be independent, $\\left(\\sigma_{A_2}, \\rho_{A_2}\\right)$ and $\\left(\\sigma_S, \\rho_S\\right)$-bounded, respectively, then the leftover service is $\\left(\\sigma_{S_{\\mathrm{l.o.}}}, \\rho_{S_{\\mathrm{l.o.}}}\\right)$-bounded with\n",
    "\\begin{align*}\n",
    "\\sigma_{S_{\\mathrm{l.o.}}}(-\\theta) =& \\sigma_{S}(-\\theta) + \\sigma_{A_2}(\\theta),\\\\\n",
    "\\rho_{S_{\\mathrm{l.o.}}}(-\\theta) =& \\rho_{S}(-\\theta) - \\rho_{A_2}(\\theta).\n",
    "\\end{align*}"
   ]
  },
  {
   "cell_type": "code",
   "execution_count": 16,
   "metadata": {
    "ExecuteTime": {
     "end_time": "2019-12-09T14:19:25.524348Z",
     "start_time": "2019-12-09T14:19:25.515027Z"
    }
   },
   "outputs": [],
   "source": [
    "class Leftover(Server):\n",
    "    \"\"\"Class to compute the leftover service.\"\"\"\n",
    "    def __init__(self, ser: Server, arr: Arrival) -> None:\n",
    "        self.arr = arr\n",
    "        self.ser = ser\n",
    "\n",
    "    def sigma(self, theta):\n",
    "        return self.ser.sigma(theta) + self.arr.sigma(theta)\n",
    "\n",
    "    def rho(self, theta):\n",
    "        if self.ser.rho(theta) < 0 or self.arr.rho(theta) < 0:\n",
    "            raise ParameterOutOfBounds(\"The rhos must be >= 0\")\n",
    "\n",
    "        return self.ser.rho(theta) - self.arr.rho(theta)"
   ]
  },
  {
   "cell_type": "code",
   "execution_count": 17,
   "metadata": {
    "ExecuteTime": {
     "end_time": "2019-12-09T14:19:25.550317Z",
     "start_time": "2019-12-09T14:19:25.527828Z"
    }
   },
   "outputs": [
    {
     "name": "stdout",
     "output_type": "stream",
     "text": [
      "Stochastic delay bound = 11.353564365144251\n"
     ]
    }
   ],
   "source": [
    "LEFTOVER_SERV = Leftover(ser=ConstantRateServer(rate=3.0),\n",
    "                            arr=MMOO(stay_on=0.5, stay_off=0.7, b=3.0))\n",
    "\n",
    "OPTIMUM = np.inf\n",
    "for THETA in np.arange(0.1, 5.0, 0.1):\n",
    "    try:\n",
    "        CANDIDATE = delay(arr=ExponentialDist(lamb=2.0),\n",
    "                          ser=LEFTOVER_SERV,\n",
    "                          theta=THETA, epsilon=0.005)\n",
    "    except ParameterOutOfBounds:\n",
    "        CANDIDATE = np.inf\n",
    "    \n",
    "    if CANDIDATE < OPTIMUM:\n",
    "        OPTIMUM = CANDIDATE\n",
    "        \n",
    "print(f\"Stochastic delay bound = {OPTIMUM}\")"
   ]
  },
  {
   "attachments": {},
   "cell_type": "markdown",
   "metadata": {},
   "source": [
    "# Analysis of Dependent Processes\n",
    "\n",
    "So far, we have only talked about the independent case.\n",
    "At last, we also would like to show how to proceed, if we apply Hölder's inequality.\n",
    "For example, let us consider two multiplexed arrival processes that are not assumed to be independent.\n",
    "\n",
    "Let $A_1$ and $A_2$ be $(\\sigma_{A_1}, \\rho_{A_1})$-bounded and $(\\sigma_{A_2}, \\rho_{A_2})$-bounded arrival processes, respectively.\n",
    "Then the sum is $(\\sigma_{A_1 + A_2}, \\rho_{A_1 + A_2})$-bounded with\n",
    "\\begin{align*}\n",
    "\\sigma_{A_1 + A_2}(\\theta) = \\sigma_{A_1}(p\\theta) + \\sigma_{A_2}(q\\theta), \\\\\n",
    "\\rho_{A_1 + A_2}(\\theta) = \\rho_{A_1}(p\\theta) + \\rho_{A_2}(q\\theta),\n",
    "\\end{align*}\n",
    "where $p,q >1$ such that $\\frac{1}{p} + \\frac{1}{q} =1.$"
   ]
  },
  {
   "cell_type": "code",
   "execution_count": 18,
   "metadata": {
    "ExecuteTime": {
     "end_time": "2019-12-09T14:19:25.573809Z",
     "start_time": "2019-12-09T14:19:25.556536Z"
    }
   },
   "outputs": [],
   "source": [
    "class AggregateGeneral(Arrival):\n",
    "    \"\"\"Multiple (list) aggregation class.\"\"\"\n",
    "    def __init__(self,\n",
    "                 arr1: Arrival,\n",
    "                 arr2: Arrival,\n",
    "                 p: float) -> None:\n",
    "        self.arr1 = arr1\n",
    "        self.arr2 = arr2\n",
    "        self.p = p\n",
    "        self.q = p / (p - 1.0)\n",
    "\n",
    "    def sigma(self, theta: float) -> float:\n",
    "        return self.arr1.sigma(self.p * theta) + self.arr2.sigma(self.q * theta)\n",
    "\n",
    "    def rho(self, theta: float) -> float:\n",
    "        if self.arr1.rho(self.p * theta) < 0 or self.arr2.rho(self.q * theta) < 0:\n",
    "            raise ParameterOutOfBounds(\"The rhos must be >= 0\")\n",
    "\n",
    "        return self.arr1.rho(self.p * theta) + self.arr2.rho(self.q * theta)"
   ]
  },
  {
   "cell_type": "code",
   "execution_count": 19,
   "metadata": {
    "ExecuteTime": {
     "end_time": "2019-12-09T14:19:25.638831Z",
     "start_time": "2019-12-09T14:19:25.576732Z"
    }
   },
   "outputs": [
    {
     "name": "stdout",
     "output_type": "stream",
     "text": [
      "stochastic delay bound for epsilon = 0.005: 10.869654138333226\n",
      "optimal theta: 0.4\n",
      "optimal p 1.7000000000000006\n"
     ]
    }
   ],
   "source": [
    "OPTIMUM = np.inf\n",
    "OPT_THETA = 0.0\n",
    "OPT_P = 0.0\n",
    "\n",
    "for THETA in np.arange(0.1, 5.0, 0.1):\n",
    "    for PP in np.arange(1.1, 5.0, 0.1):\n",
    "        try:\n",
    "            aggregate_dependent = AggregateGeneral(\n",
    "                arr1=MMOO(stay_on=0.5, stay_off=0.7, b=2.0),\n",
    "                arr2=ExponentialDist(lamb=2.0), p=PP)\n",
    "            CANDIDATE = delay(arr=aggregate_dependent,\n",
    "                              ser=ConstantRateServer(rate=2.0),\n",
    "                              theta=THETA, epsilon=0.005)\n",
    "        except ParameterOutOfBounds:\n",
    "            CANDIDATE = np.inf\n",
    "        \n",
    "        if CANDIDATE < OPTIMUM:\n",
    "            OPTIMUM = CANDIDATE\n",
    "            OPT_THETA = THETA\n",
    "            OPT_P = PP\n",
    "        \n",
    "print(f\"stochastic delay bound for epsilon = 0.005: {OPTIMUM}\")\n",
    "print(f\"optimal theta: {OPT_THETA}\")\n",
    "print(f\"optimal p {OPT_P}\")"
   ]
  },
  {
   "cell_type": "markdown",
   "metadata": {},
   "source": [
    "# Delay Plot\n",
    "\n",
    "Let us visualize the obtainable delay bounds with the help of the Python library \"matplotlib\"."
   ]
  },
  {
   "cell_type": "code",
   "execution_count": 20,
   "metadata": {
    "ExecuteTime": {
     "end_time": "2019-12-09T14:19:26.779210Z",
     "start_time": "2019-12-09T14:19:25.641586Z"
    }
   },
   "outputs": [
    {
     "data": {
      "text/plain": "Text(0, 0.5, 'Violation Probability')"
     },
     "execution_count": 20,
     "metadata": {},
     "output_type": "execute_result"
    },
    {
     "data": {
      "text/plain": "<Figure size 640x480 with 1 Axes>",
      "image/png": "[encoded data removed]"
     },
     "metadata": {},
     "output_type": "display_data"
    }
   ],
   "source": [
    "import matplotlib.pyplot as plt\n",
    "\n",
    "def delay_prob_opt(T: int):\n",
    "    optimum = np.inf\n",
    "    for theta in np.arange(0.1, 5.0, 0.1):\n",
    "        try:\n",
    "            candidate = delay_prob(arr=ExponentialDist(lamb=2.0),\n",
    "                                   ser=ConstantRateServer(rate=1.0),\n",
    "                                   theta=theta, T=T)\n",
    "        except ParameterOutOfBounds:\n",
    "            candidate = np.inf\n",
    "\n",
    "        if candidate < optimum:\n",
    "            optimum = candidate\n",
    "            \n",
    "    return optimum\n",
    "\n",
    "\n",
    "X_VALUES = np.arange(4, 15, 1)\n",
    "Y_VALUES = [delay_prob_opt(T) for T in X_VALUES]\n",
    "        \n",
    "plt.plot(X_VALUES, Y_VALUES)\n",
    "plt.yscale(\"log\")\n",
    "plt.tick_params(labelsize=15)\n",
    "plt.xlabel(\"Delay\", fontsize=15)\n",
    "plt.ylabel(\"Violation Probability\", fontsize=15)"
   ]
  },
  {
   "attachments": {},
   "cell_type": "markdown",
   "metadata": {},
   "source": [
    "# Network Analysis\n",
    "\n",
    "Let us apply the knowledge we obtained so far to derive a delay bound for a more complex scenario.\n",
    "Therefore, we consider in the following the network in\n",
    "\n",
    "![canonical_tandem-2-nodes](figures/canonical_tandem-2-nodes.png)\n",
    "\n",
    "as it requires us to use the leftover service as well as the concatenation theorem.\n",
    "In order to simplify the problem, assume all flows and all servers to be independent.\n",
    "\n",
    "Then we obtain for MMOO arrivals and exponentially distributed cross-traffic"
   ]
  },
  {
   "cell_type": "code",
   "execution_count": 49,
   "metadata": {
    "ExecuteTime": {
     "end_time": "2019-12-09T14:19:26.793931Z",
     "start_time": "2019-12-09T14:19:26.782342Z"
    }
   },
   "outputs": [
    {
     "name": "stdout",
     "output_type": "stream",
     "text": [
      "stochastic delay bound with epsilson = 0.005: 44.36215768113855\n"
     ]
    }
   ],
   "source": [
    "LO_S_1 = Leftover(ser=ConstantRateServer(rate=3.0), arr=ExponentialDist(lamb=1.5))\n",
    "LO_S_2 = Leftover(ser=ConstantRateServer(rate=2.0), arr=ExponentialDist(lamb=2.0))\n",
    "EPSILON = 0.005\n",
    "\n",
    "OPTIMUM = np.inf\n",
    "for THETA in np.arange(0.1, 5.0, 0.1):\n",
    "    for DELTA in np.arange(0.1, 2.0, 0.1):\n",
    "        CONCATENATED_SERVERS = Convolve(ser1=LO_S_1, ser2=LO_S_2, delta=DELTA)\n",
    "        \n",
    "        try:\n",
    "            CANDIDATE = delay(arr=MMOO(stay_on=0.5, stay_off=0.7, b=3.0),\n",
    "                            ser=CONCATENATED_SERVERS, \n",
    "                            theta=THETA, epsilon=EPSILON)\n",
    "        except ParameterOutOfBounds:\n",
    "            CANDIDATE = np.inf\n",
    "        \n",
    "        if CANDIDATE < OPTIMUM:\n",
    "            OPTIMUM = CANDIDATE\n",
    "        \n",
    "print(f\"stochastic delay bound with epsilon = {EPSILON}: {OPTIMUM}\")"
   ]
  }
 ],
 "metadata": {
  "kernelspec": {
   "display_name": "base",
   "language": "python",
   "name": "python3"
  },
  "language_info": {
   "codemirror_mode": {
    "name": "ipython",
    "version": 3
   },
   "file_extension": ".py",
   "mimetype": "text/x-python",
   "name": "python",
   "nbconvert_exporter": "python",
   "pygments_lexer": "ipython3",
   "version": "3.9.15"
  },
  "latex_envs": {
   "LaTeX_envs_menu_present": true,
   "autoclose": false,
   "autocomplete": true,
   "bibliofile": "biblio.bib",
   "cite_by": "apalike",
   "current_citInitial": 1,
   "eqLabelWithNumbers": true,
   "eqNumInitial": 1,
   "hotkeys": {
    "equation": "Ctrl-E",
    "itemize": "Ctrl-I"
   },
   "labels_anchors": false,
   "latex_user_defs": false,
   "report_style_numbering": false,
   "user_envs_cfg": false
  },
  "toc": {
   "base_numbering": 1,
   "nav_menu": {},
   "number_sections": true,
   "sideBar": true,
   "skip_h1_title": false,
   "title_cell": "Table of Contents",
   "title_sidebar": "Contents",
   "toc_cell": false,
   "toc_position": {},
   "toc_section_display": true,
   "toc_window_display": true
  },
  "varInspector": {
   "cols": {
    "lenName": 16,
    "lenType": 16,
    "lenVar": 40
   },
   "kernels_config": {
    "python": {
     "delete_cmd_postfix": "",
     "delete_cmd_prefix": "del ",
     "library": "var_list.py",
     "varRefreshCmd": "print(var_dic_list())"
    },
    "r": {
     "delete_cmd_postfix": ") ",
     "delete_cmd_prefix": "rm(",
     "library": "var_list.r",
     "varRefreshCmd": "cat(var_dic_list()) "
    }
   },
   "position": {
    "height": "346.85px",
    "left": "1609px",
    "right": "20px",
    "top": "120px",
    "width": "291px"
   },
   "types_to_exclude": [
    "module",
    "function",
    "builtin_function_or_method",
    "instance",
    "_Feature"
   ],
   "window_display": false
  },
  "vscode": {
   "interpreter": {
    "hash": "ebcb9d11ce196307366a12d7d2e88209cb66b8170349675ee544c99253a63508"
   }
  }
 },
 "nbformat": 4,
 "nbformat_minor": 2
}
