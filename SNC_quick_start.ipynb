{
 "cells": [
  {
   "cell_type": "markdown",
   "metadata": {},
   "source": [
    "# Quick Start to Stochastic Network Calculus"
   ]
  },
  {
   "cell_type": "markdown",
   "metadata": {},
   "source": [
    "In this short tutorial, we show how to obtain delay bounds in the stochastic network calculus (SNC) with moment-generating functions (MGF).\n",
    "Throughout this tutorial, we assume arrivals and service to be $(\\sigma, \\rho)$-bounded, as it allows for closed-form solutions of all operators and performance bounds."
   ]
  },
  {
   "cell_type": "markdown",
   "metadata": {},
   "source": [
    "# Traffic Classes\n",
    "\n",
    "Let us dive in immediately into the coding. \n",
    "At first, we write down an abstract class \"Arrivals\".\n",
    "All traffic classes inherit from it."
   ]
  },
  {
   "cell_type": "code",
   "execution_count": 1,
   "metadata": {},
   "outputs": [],
   "source": [
    "from abc import abstractmethod, ABC\n",
    "\n",
    "\n",
    "class Arrival(ABC):\n",
    "    \"\"\"Abstract Arrival class.\"\"\"\n",
    "\n",
    "    @abstractmethod\n",
    "    def sigma(self, theta: float) -> float:\n",
    "        \"\"\"\n",
    "        sigma(theta)\n",
    "        :param theta: mgf parameter\n",
    "        \"\"\"\n",
    "        pass\n",
    "\n",
    "    @abstractmethod\n",
    "    def rho(self, theta: float) -> float:\n",
    "        \"\"\"\n",
    "        rho(theta)\n",
    "        :param theta: mgf parameter\n",
    "        \"\"\"\n",
    "        pass"
   ]
  },
  {
   "cell_type": "markdown",
   "metadata": {},
   "source": [
    "We see that both methods take $\\theta$ as an argument and return a float.\n",
    "\n",
    "Similarly, we implement an abstract class for a server."
   ]
  },
  {
   "cell_type": "code",
   "execution_count": 2,
   "metadata": {},
   "outputs": [],
   "source": [
    "class Server(ABC):\n",
    "    \"\"\"Abstract Server class\"\"\"\n",
    "\n",
    "    @abstractmethod\n",
    "    def sigma(self, theta: float) -> float:\n",
    "        \"\"\"Sigma method\"\"\"\n",
    "        pass\n",
    "\n",
    "    @abstractmethod\n",
    "    def rho(self, theta: float) -> float:\n",
    "        \"\"\"Rho method\"\"\"\n",
    "        pass"
   ]
  },
  {
   "cell_type": "markdown",
   "metadata": {},
   "source": [
    "Now, we can already implement traffic classes.\n",
    "In order to keep it simple, we start with i.i.d. exponentially distributed packet sizes for the arrivals.\n",
    "This corresponds to the so-called D/M/1-queue, which is the reason why we call this call DM1.\n",
    "A well-known results yields for this traffic class, we have with $A(s,t)=\\sum_{i=s+1}^{t} a_i$ and $0 < \\theta < \\lambda$\n",
    "\\begin{align*}\n",
    "\\mathrm{E}\\left[e^{\\theta A(s,t)}\\right] &= \\left(\\frac{\\lambda}{\\lambda-\\theta}\\right)^{t-s}\\\\\n",
    "&= e^{\\log\\left(\\frac{\\lambda}{\\lambda-\\theta}\\right) \\cdot (t-s)}\\\\\n",
    "&= e^{\\theta \\frac{1}{\\theta}\\log\\left(\\frac{\\lambda}{\\lambda-\\theta}\\right) \\cdot (t-s)}\\\\\n",
    "&= e^{\\theta \\rho_A(\\theta) \\cdot (t-s) + \\theta \\sigma_A(\\theta)},\n",
    "\\end{align*}\n",
    "where\n",
    "\\begin{align*}\n",
    "\\sigma_A(\\theta) &= 0,\\\\\n",
    "\\rho_A(\\theta) &= \\frac{1}{\\theta} \\log\\left(\\frac{\\lambda}{\\lambda-\\theta}\\right).\n",
    "\\end{align*}\n",
    "In our implementation, this yields"
   ]
  },
  {
   "cell_type": "code",
   "execution_count": 3,
   "metadata": {},
   "outputs": [],
   "source": [
    "class ParameterOutOfBounds(Exception):\n",
    "    \"\"\"Exception if input parameter is not feasible in the optimization\"\"\"\n",
    "\n",
    "    def __init__(self, parameter):\n",
    "        msg = \"Parameter is out of bounds, {0}\".format(parameter)\n",
    "        super(ParameterOutOfBounds, self).__init__(msg)\n",
    "        self.parameter = parameter"
   ]
  },
  {
   "cell_type": "code",
   "execution_count": 4,
   "metadata": {},
   "outputs": [],
   "source": [
    "from math import log\n",
    "\n",
    "\n",
    "class DM1(Arrival):\n",
    "    \"\"\"Corresponds to D/M/1 queue.\"\"\"\n",
    "\n",
    "    def __init__(self, lamb: float, n=1) -> None:\n",
    "        self.lamb = lamb\n",
    "        self.n = n\n",
    "        \n",
    "    def sigma(self, theta=0.0) -> float:\n",
    "        \"\"\"\n",
    "\n",
    "        :param theta: mgf parameter\n",
    "        :return:      sigma(theta)\n",
    "        \"\"\"\n",
    "        return 0.0\n",
    "\n",
    "    def rho(self, theta: float) -> float:\n",
    "        \"\"\"\n",
    "        rho(theta)\n",
    "        :param theta: mgf parameter\n",
    "        \"\"\"\n",
    "        if theta <= 0:\n",
    "            raise ParameterOutOfBounds(f\"theta = {theta} must be > 0\")\n",
    "\n",
    "        if theta >= self.lamb:\n",
    "            raise ParameterOutOfBounds(f\"theta = {theta} must be < lambda = {self.lamb}\")\n",
    "\n",
    "        return (self.n / theta) * log(self.lamb / (self.lamb - theta))"
   ]
  },
  {
   "cell_type": "markdown",
   "metadata": {},
   "source": [
    "This class has to inherit from the class Arrival.\n",
    "Further, we add the parameter $n$ to allow for an aggregate of arrivals.\n",
    "Also, we check whether $0<\\theta<\\lambda$, since otherwise, the MGF does not exist.\n",
    "In order to handle these case (we will see below, that it has pracital advantages), we write our own class for this errors.\n",
    "\n",
    "For a constant rate server, we proceed in a similar fashion.\n",
    "We know that for the service process $S(s,t) = c \\cdot (t-s)$ with $c \\geq 0$, it is $(\\sigma_S, \\rho_S)$-bounded  with\n",
    "\\begin{align*}\n",
    "    \\sigma(-\\theta) =& 0,\\\\\n",
    "    \\rho(-\\theta) =& c.\n",
    "\\end{align*}\n",
    "Note that in this case, $S(s,t)$ is deterministic.\n",
    "With respect to the code, this means    "
   ]
  },
  {
   "cell_type": "code",
   "execution_count": 5,
   "metadata": {},
   "outputs": [],
   "source": [
    "class ConstantRateServer(Server):\n",
    "    \"\"\"Constant rate service\"\"\"\n",
    "\n",
    "    def __init__(self, rate: float) -> None:\n",
    "        self.rate = rate\n",
    "\n",
    "    def sigma(self, theta=0.0) -> float:\n",
    "        return 0.0\n",
    "\n",
    "    def rho(self, theta: float) -> float:\n",
    "        if theta <= 0:\n",
    "            raise ParameterOutOfBounds(f\"theta = {theta} must be > 0\")\n",
    "\n",
    "        return self.rate"
   ]
  },
  {
   "cell_type": "markdown",
   "metadata": {},
   "source": [
    "# Single Server Analysis\n",
    "\n",
    "Now, we can derive for single flow - single server topologies as in \n",
    "![1-input-1-output](figures/1-input-1-output.png)\n",
    "However, this is the most important topology, as we reduce any feed-forward to this network by using the end-to-end service.\n",
    "\n",
    "Now, we can use this to compute performance bounds.\n",
    "From SNC theory, we know that, if arrivals and service are $(\\sigma, \\rho)$-bounded and the stability codition holds, i.e., \n",
    "\\begin{equation*}\n",
    "\t\t\\rho_A(\\theta) < \\rho_S(-\\theta),\n",
    "\\end{equation*}\n",
    "then the violation probability of the virtual delay is bounded by\n",
    "\\begin{equation*}\n",
    "\\mathrm{P}(d(t)>T) \\leq e^{-\\theta \\rho_{S}(-\\theta)T} \\frac{e^{\\theta\\left(\\sigma_{A}(\\theta)+\\sigma_{S}(-\\theta)\\right)}}{1-e^{\\theta\\left(\\rho_{A}(\\theta)-\\rho_{S}(-\\theta)\\right)}}.\n",
    "\\end{equation*}\n",
    "Code-wise, this yields"
   ]
  },
  {
   "cell_type": "code",
   "execution_count": 6,
   "metadata": {},
   "outputs": [],
   "source": [
    "from math import exp\n",
    "\n",
    "def delay_prob(arr: Arrival,\n",
    "               ser: Server,\n",
    "               theta: float,\n",
    "               T: int) -> float:\n",
    "    \"\"\"Implements stationary standard_bound method\"\"\"\n",
    "    if arr.rho(theta) >= ser.rho(theta):\n",
    "        raise ParameterOutOfBounds(\"System is not stable\")\n",
    "\n",
    "    return exp(-theta * ser.rho(theta) * T) * exp(theta * (arr.sigma(theta) + ser.sigma(\n",
    "            theta))) / (1 - exp(theta * (arr.rho(theta) - ser.rho(theta))))"
   ]
  },
  {
   "cell_type": "markdown",
   "metadata": {},
   "source": [
    "For the D/M/1 arrrival with $\\lambda=2.0$ and a constant rate server with rate $1.0$, the probability that the delay is larger than 5 for $\\theta=1.0$ is equal to"
   ]
  },
  {
   "cell_type": "code",
   "execution_count": 7,
   "metadata": {},
   "outputs": [
    {
     "name": "stdout",
     "output_type": "stream",
     "text": [
      "0.025499237434458494\n"
     ]
    }
   ],
   "source": [
    "print(delay_prob(arr=DM1(lamb=2.0), ser=ConstantRateServer(1.0), theta=1.0, T=5))"
   ]
  },
  {
   "cell_type": "markdown",
   "metadata": {},
   "source": [
    "Of course, since the bound is valid for all $\\theta,$ it is desirable to optimize the bound in $\\theta$.\n",
    "A very simple approach is to try many values and take the minimum."
   ]
  },
  {
   "cell_type": "code",
   "execution_count": 8,
   "metadata": {},
   "outputs": [
    {
     "name": "stdout",
     "output_type": "stream",
     "text": [
      "bound on delay violation probability = 0.005122641142859845\n",
      "optimal theta = 1.4000000000000001\n"
     ]
    }
   ],
   "source": [
    "import numpy as np\n",
    "\n",
    "optimum = np.inf\n",
    "opt_theta = 0.0\n",
    "for theta in np.arange(0.1, 5.0, 0.1):\n",
    "    try:\n",
    "        candidate = delay_prob(arr=DM1(lamb=2.0), ser=ConstantRateServer(rate=1.0), theta=theta, T=5)\n",
    "    except ParameterOutOfBounds:\n",
    "        candidate = np.inf\n",
    "    \n",
    "    if candidate < optimum:\n",
    "        optimum = candidate\n",
    "        opt_theta = theta\n",
    "        \n",
    "print(f\"bound on delay violation probability = {optimum}\")\n",
    "print(f\"optimal theta = {opt_theta}\")"
   ]
  },
  {
   "cell_type": "markdown",
   "metadata": {},
   "source": [
    "Vice versa, we can also derive a stochastic delay bound for a given violation probability (under stability):\n",
    "\\begin{equation*}\n",
    "T_\\varepsilon =\\frac{\\sigma_{A}(\\theta)+\\sigma_{S}(-\\theta)}{\\rho_{S}(-\\theta)} + \\frac{1}{\\theta \\rho_{S}(-\\theta)}\\log\\left(\\frac{1}{\\varepsilon\\left(1-e^{\\theta\\left(\\rho_{A}(\\theta)-\\rho_{S}(-\\theta)\\right)}\\right)}\\right).\n",
    "\\end{equation*}\n",
    "In Python, this yields"
   ]
  },
  {
   "cell_type": "code",
   "execution_count": 9,
   "metadata": {},
   "outputs": [],
   "source": [
    "def delay(arr: Arrival,\n",
    "          ser: Server,\n",
    "          theta: float,\n",
    "          epsilon: float) -> float:\n",
    "    \"\"\"Implements stationary standard_bound method\"\"\"\n",
    "    if arr.rho(theta) >= ser.rho(theta):\n",
    "        raise ParameterOutOfBounds(\"System is not stable\")\n",
    "\n",
    "    log_part = log(1 / (epsilon * (1 - exp(theta * (arr.rho(theta) - ser.rho(theta))))))\n",
    "    return (arr.sigma(theta) + ser.sigma(theta) + log_part / theta) / ser.rho(theta=theta)"
   ]
  },
  {
   "cell_type": "markdown",
   "metadata": {},
   "source": [
    "For the traffic classes and parameter from above and violation probability 0.005, we compute"
   ]
  },
  {
   "cell_type": "code",
   "execution_count": 10,
   "metadata": {},
   "outputs": [
    {
     "name": "stdout",
     "output_type": "stream",
     "text": [
      "delay bound = 5.0173087441629844\n"
     ]
    }
   ],
   "source": [
    "optimum = np.inf\n",
    "opt_theta = 0.0\n",
    "for theta in np.arange(0.1, 5.0, 0.1):\n",
    "    try:\n",
    "        candidate = delay(arr=DM1(lamb=2.0), ser=ConstantRateServer(rate=1.0), theta=theta, epsilon=0.005)\n",
    "    except ParameterOutOfBounds:\n",
    "        candidate = np.inf\n",
    "    \n",
    "    if candidate < optimum:\n",
    "        optimum = candidate\n",
    "        opt_theta = theta\n",
    "        \n",
    "print(f\"delay bound = {optimum}\")"
   ]
  },
  {
   "cell_type": "markdown",
   "metadata": {},
   "source": [
    "Of course, we are not limited to D/M/1 systems.\n",
    "For example, we can use Markov-modulated on-off (MMOO) traffic with transition matrix \n",
    "\\begin{equation*}\n",
    "P:=\\begin{pmatrix}\n",
    "\tp_{00} & p_{01}\\\\\n",
    "\tp_{10} & p_{11}\n",
    "\t\\end{pmatrix}.\n",
    "\\end{equation*}\n",
    "In state $0$, no data is sent, whereas in state $1$, traffic with rate $b$ is sent.\n",
    "This is know to be $(\\sigma,\\rho)$-bounded with\n",
    "\\begin{align*}\n",
    "\t\\sigma_A(\\theta) =& 0,\\\\\n",
    "\t\\rho_A(\\theta) =& \\frac{1}{\\theta}\\log\\left(\\frac{p_{00}+p_{11}e^{b \\theta}+\\sqrt{\\left(p_{00}+p_{11}e^{b \\theta}\\right)^{2}-4\\left(p_{00}+p_{11}-1\\right)e^{b \\theta}}}{2}\\right).\n",
    "\\end{align*}"
   ]
  },
  {
   "cell_type": "code",
   "execution_count": 11,
   "metadata": {},
   "outputs": [],
   "source": [
    "from math import sqrt\n",
    "\n",
    "class MMOO(Arrival):\n",
    "    \"\"\"Discrete Markov Modulated On-Off Traffic\"\"\"\n",
    "    def __init__(self, stay_on: float, stay_off: float, b: float,\n",
    "                 n=1) -> None:\n",
    "        self.stay_on = stay_on\n",
    "        self.stay_off = stay_off\n",
    "        self.b = b\n",
    "        self.n = n\n",
    "\n",
    "    def sigma(self, theta=0.0) -> float:\n",
    "        return 0.0\n",
    "\n",
    "    def rho(self, theta: float) -> float:\n",
    "        if theta <= 0:\n",
    "            raise ParameterOutOfBounds(f\"theta = {theta} must be > 0\")\n",
    "\n",
    "        if self.stay_on <= 0.0 or self.stay_on >= 1.0:\n",
    "            raise ValueError(f\"p_stay_on = {self.stay_on} must be in (0,1)\")\n",
    "\n",
    "        if self.stay_off <= 0.0 or self.stay_off >= 1.0:\n",
    "            raise ValueError(f\"p_stay_off = {self.stay_off} must be in (0,1)\")\n",
    "\n",
    "        off_on = self.stay_off + self.stay_on * exp(theta * self.b)\n",
    "        sqrt_part = sqrt(off_on**2 - 4 * (self.stay_off + self.stay_on - 1) *\n",
    "                         exp(theta * self.b))\n",
    "\n",
    "        rho_mmoo_disc = log(0.5 * (off_on + sqrt_part))\n",
    "\n",
    "        if rho_mmoo_disc < 0:\n",
    "            raise ParameterOutOfBounds(\"rho must be >= 0\")\n",
    "\n",
    "        return rho_mmoo_disc / theta"
   ]
  },
  {
   "cell_type": "code",
   "execution_count": 12,
   "metadata": {},
   "outputs": [
    {
     "name": "stdout",
     "output_type": "stream",
     "text": [
      "delay bound = 33.69801819903915\n"
     ]
    }
   ],
   "source": [
    "optimum = np.inf\n",
    "opt_theta = 0.0\n",
    "for theta in np.arange(0.1, 5.0, 0.1):\n",
    "    try:\n",
    "        candidate = delay(arr=MMOO(stay_on=0.5, stay_off=0.7, b=2.0), ser=ConstantRateServer(rate=1.0), theta=theta, epsilon=0.005)\n",
    "    except ParameterOutOfBounds:\n",
    "        candidate = np.inf\n",
    "    \n",
    "    if candidate < optimum:\n",
    "        optimum = candidate\n",
    "        opt_theta = theta\n",
    "        \n",
    "print(f\"delay bound = {optimum}\")"
   ]
  },
  {
   "cell_type": "markdown",
   "metadata": {},
   "source": [
    "# Single Server Analysis\n",
    "\n",
    "In this section, we show how to compute performance for network of the forn\n",
    "![1-input-2-server](figures/1-input-2-server.png)\n",
    "Therefore, we need the concatenation theorem:\n",
    "\n",
    "Assume above topology, where the arrivals of $f_1$ are $A_\\mathrm{e2e} = A_1.$\n",
    "We denote by $D_1 = A_2$ the output of $S_1$, which equals the input at $S_2$, and by $D_\\mathrm{e2e} = D_2$ the departures of $S_2.$\n",
    "Further, we assume the servers to be dynamic $S_1$- and $S_2$-servers, respectively.\n",
    "Then the end-to-end service, $S_\\mathrm{e2e},$ is a dynamic $S_1 \\otimes S_2$-server.\n",
    "\n",
    "Under the additional assumption of independent $\\left(\\sigma_{S_1}, \\rho_{S_1}\\right)$ and $\\left(\\sigma_{S_2}, \\rho_{S_2}\\right)$-constrained servers, the end-to-end service is $\\left(\\sigma_{S_\\mathrm{e2e}}, \\rho_{S_\\mathrm{e2e}}\\right)$-bounded, where\n",
    "\\begin{align*}\n",
    "\\sigma_{S_\\mathrm{e2e}}(-\\theta) =& \\sigma_{S_{1}}(-\\theta)+\\sigma_{S_{2}}(-\\theta) + \\frac{1}{\\theta}\\log\\left(\\frac{1}{1-e^{-\\theta\\left|\\rho_{S_{2}}(-\\theta)-\\rho_{S_{1}}(-\\theta)\\right|}}\\right),\\\\\n",
    "\\rho_{S_\\mathrm{e2e}}(-\\theta) =& \\min\\left\\{ \\rho_{S_{1}}(-\\theta),\\rho_{S_2}(-\\theta)\\right\\}\n",
    "\\end{align*}\n",
    "in case $\\rho_{S_{1}}(-\\theta) \\neq \\rho_{S_{2}}(-\\theta),$ and\n",
    "\\begin{align*}\n",
    "\\sigma_{S_\\mathrm{e2e}}(-\\theta) =& \\sigma_{S_{1}}(-\\theta)+\\sigma_{S_{2}}(-\\theta),\\\\\n",
    "\\rho_{S_\\mathrm{e2e}}(-\\theta) =& \\rho_{S_{1}}(-\\theta)-\\frac{1}{\\theta}\n",
    "\\end{align*}\n",
    "if $\\rho_{S_{1}}(-\\theta) = \\rho_{S_{2}}(-\\theta).$\n",
    "\n",
    "In Python, this can be implemented as follows:"
   ]
  },
  {
   "cell_type": "code",
   "execution_count": 13,
   "metadata": {},
   "outputs": [],
   "source": [
    "class Convolve(Server):\n",
    "    \"\"\"Convolution class.\"\"\"\n",
    "\n",
    "    def __init__(self,\n",
    "                 ser1: Server,\n",
    "                 ser2: Server) -> None:\n",
    "        self.ser1 = ser1\n",
    "        self.ser2 = ser2\n",
    "\n",
    "    def sigma(self, theta: float) -> float:\n",
    "        ser_1_sigma = self.ser1.sigma(theta)\n",
    "        ser_2_sigma = self.ser2.sigma(theta)\n",
    "\n",
    "        ser_1_rho = self.ser1.rho(theta)\n",
    "        ser_2_rho = self.ser2.rho(theta)\n",
    "\n",
    "        if ser_1_rho!= ser_2_rho:\n",
    "            return ser_1_sigma + ser_2_sigma -log(1 - exp(-theta * abs(ser_1_rho - ser_2_rho))) / theta\n",
    "\n",
    "        else:\n",
    "            return ser_1_sigma + ser_2_sigma\n",
    "\n",
    "    def rho(self, theta: float) -> float:\n",
    "        ser_1_rho = self.ser1.rho(theta)\n",
    "        ser_2_rho = self.ser2.rho(theta)\n",
    "\n",
    "        if ser_1_rho < 0 or ser_2_rho < 0:\n",
    "            raise ParameterOutOfBounds(\"The rhos must be > 0\")\n",
    "\n",
    "        if ser_1_rho!= ser_2_rho:\n",
    "            return min(ser_1_rho, ser_2_rho)\n",
    "\n",
    "        else:\n",
    "            return ser_1_rho_p - 1 / theta"
   ]
  },
  {
   "cell_type": "markdown",
   "metadata": {},
   "source": [
    "Observe that the convolution of two service processes is, again, a service process.\n",
    "Hence, the class Convolve() inherits from the class Server().\n",
    "Consider again D/M/1 arrival with $\\lambda=2.0$ and server rates $c_1=2.0$, $c_2=1.5$.\n",
    "The we compute"
   ]
  },
  {
   "cell_type": "code",
   "execution_count": 14,
   "metadata": {},
   "outputs": [
    {
     "name": "stdout",
     "output_type": "stream",
     "text": [
      "optimal bound on delay violation probability = 2.5685416909311694\n"
     ]
    }
   ],
   "source": [
    "convolved_servers = Convolve(ser1=ConstantRateServer(rate=2.0), ser2=ConstantRateServer(rate=1.5))\n",
    "\n",
    "optimum = np.inf\n",
    "opt_theta = 0.0\n",
    "for theta in np.arange(0.1, 5.0, 0.1):\n",
    "    try:\n",
    "        candidate = delay(arr=DM1(lamb=2.0), ser=convolved_servers, theta=theta, epsilon=0.005)\n",
    "    except ParameterOutOfBounds:\n",
    "        candidate = np.inf\n",
    "    \n",
    "    if candidate < optimum:\n",
    "        optimum = candidate\n",
    "        opt_theta = theta\n",
    "        \n",
    "print(f\"optimal bound on delay violation probability = {optimum}\")"
   ]
  },
  {
   "cell_type": "markdown",
   "metadata": {},
   "source": [
    "# Leftover Service\n",
    "![2-input-1-server](figures/2-input-1-server.png)\n",
    "\n",
    "In this section, we want to compute the leftover service for the flow of interest.\n",
    "The code is based on the following theorem.\n",
    "\n",
    "Consider two flows, $f_1$ and $f_2,$ with respective arrival processes $A_1(s,t)$ and $A_2(s,t)$, that receive service process $S(s, t)$.\n",
    "Further, we assume $f_1$ to be our foi and the scheduling to be arbitrary multiplexing.\n",
    "If the server is work-conserving, then the foi sees the dynamic $S$-server\n",
    "\\begin{equation}\n",
    "S_{\\mathrm{l.o.}}^{\\mathrm{ARB}}(s,t) = S_{\\mathrm{l.o.}}(s,t) = \\left[S(s,t) - A_2(s,t)\\right]^+, \\quad 0 \\leq s \\leq t\n",
    "\\end{equation}\n",
    "the so-called leftover service.\n",
    "This is also denoted by $S_{\\mathrm{l.o.}} = S \\ominus A_2.$\n",
    "\n",
    "Let $\\theta >0.$\n",
    "If we further assume the arrival process $A_2$ and the service process to be independent, $\\left(\\sigma_{A_2}, \\rho_{A_2}\\right)$ and $\\left(\\sigma_S, \\rho_S\\right)$-bounded, respectively, then the leftover service is $\\left(\\sigma_{S_{\\mathrm{l.o.}}}, \\rho_{S_{\\mathrm{l.o.}}}\\right)$-bounded with\n",
    "\\begin{align*}\n",
    "\\sigma_{S_{\\mathrm{l.o.}}}(-\\theta) =& \\sigma_{S}(-\\theta) + \\sigma_{A_2}(\\theta),\\\\\n",
    "\\rho_{S_{\\mathrm{l.o.}}}(-\\theta) =& \\rho_{S}(-\\theta) - \\rho_{A_2}(\\theta).\n",
    "\\end{align*}"
   ]
  },
  {
   "cell_type": "code",
   "execution_count": 15,
   "metadata": {},
   "outputs": [],
   "source": [
    "class Leftover(Server):\n",
    "    \"\"\"Class to compute the leftover service.\"\"\"\n",
    "    def __init__(self, ser: Server, arr: Arrival) -> None:\n",
    "        self.arr = arr\n",
    "        self.ser = ser\n",
    "\n",
    "    def sigma(self, theta):\n",
    "        return self.ser.sigma(theta) + self.arr.sigma(theta)\n",
    "\n",
    "    def rho(self, theta):\n",
    "        if self.ser.rho(theta) < 0 or self.arr.rho(theta) < 0:\n",
    "            raise ParameterOutOfBounds(\"The rhos must be >= 0\")\n",
    "\n",
    "        return self.ser.rho(theta) - self.arr.rho(theta)"
   ]
  },
  {
   "cell_type": "code",
   "execution_count": 16,
   "metadata": {},
   "outputs": [
    {
     "name": "stdout",
     "output_type": "stream",
     "text": [
      "optimal bound on delay violation probability = 11.501281262813745\n"
     ]
    }
   ],
   "source": [
    "leftover_service = Leftover(ser=ConstantRateServer(rate=3.0), arr=MMOO(stay_on=0.5, stay_off=0.7, b=3.0))\n",
    "\n",
    "optimum = np.inf\n",
    "opt_theta = 0.0\n",
    "for theta in np.arange(0.1, 5.0, 0.1):\n",
    "    try:\n",
    "        candidate = delay(arr=DM1(lamb=2.0), ser=leftover_service, theta=theta, epsilon=0.005)\n",
    "    except ParameterOutOfBounds:\n",
    "        candidate = np.inf\n",
    "    \n",
    "    if candidate < optimum:\n",
    "        optimum = candidate\n",
    "        opt_theta = theta\n",
    "        \n",
    "print(f\"optimal bound on delay violation probability = {optimum}\")"
   ]
  },
  {
   "cell_type": "markdown",
   "metadata": {},
   "source": [
    "# Analysis of Dependent Processes\n",
    "\n",
    "So far, we have only talked about the independent case.\n",
    "At last, we also would like to show how to proceed, if we apply Hölder's inequality.\n",
    "For example, let us consider two multiplexed arrival processes that are not assumed to be independet."
   ]
  },
  {
   "cell_type": "code",
   "execution_count": 17,
   "metadata": {},
   "outputs": [],
   "source": [
    "class AggregateGeneral(Arrival):\n",
    "    \"\"\"Multiple (list) aggregation class.\"\"\"\n",
    "    def __init__(self,\n",
    "                 arr1: Arrival,\n",
    "                 arr2: Arrival,\n",
    "                 p: float) -> None:\n",
    "        self.arr1 = arr1\n",
    "        self.arr2 = arr2\n",
    "        self.p = p\n",
    "        self.q = p / (p - 1.0)\n",
    "\n",
    "    def sigma(self, theta: float) -> float:\n",
    "        return self.arr1.sigma(self.p * theta) + self.arr2.sigma(\n",
    "            self.q * theta)\n",
    "\n",
    "    def rho(self, theta: float) -> float:\n",
    "        if self.arr1.rho(self.p * theta) < 0 or self.arr2.rho(self.q * theta) < 0:\n",
    "            raise ParameterOutOfBounds(\"The rhos must be >= 0\")\n",
    "\n",
    "        return self.arr1.rho(self.p * theta) + self.arr2.rho(self.q * theta)"
   ]
  },
  {
   "cell_type": "code",
   "execution_count": 18,
   "metadata": {},
   "outputs": [
    {
     "name": "stdout",
     "output_type": "stream",
     "text": [
      "delay bound = 10.890508299559576\n"
     ]
    }
   ],
   "source": [
    "optimum = np.inf\n",
    "opt_theta = 0.0\n",
    "opt_p = 0.0\n",
    "for theta in np.arange(0.1, 5.0, 0.1):\n",
    "    for p in np.arange(1.1, 5.0, 0.1):\n",
    "        try:\n",
    "            aggregate_dependent = AggregateGeneral(arr1=MMOO(stay_on=0.5, stay_off=0.7, b=2.0), arr2=DM1(lamb=2.0), p=p)\n",
    "            candidate = delay(arr=aggregate_dependent, ser=ConstantRateServer(rate=2.0), theta=theta, epsilon=0.005)\n",
    "        except ParameterOutOfBounds:\n",
    "            candidate = np.inf\n",
    "        \n",
    "        if candidate < optimum:\n",
    "            optimum = candidate\n",
    "            opt_theta = theta\n",
    "            opt_p = p\n",
    "        \n",
    "print(f\"delay bound = {optimum}\")\n",
    "# print(f\"optimal theta = {opt_theta}\")\n",
    "# print(f\"optimal p {opt_p}\")"
   ]
  },
  {
   "cell_type": "code",
   "execution_count": null,
   "metadata": {},
   "outputs": [],
   "source": []
  }
 ],
 "metadata": {
  "kernelspec": {
   "display_name": "Python 3",
   "language": "python",
   "name": "python3"
  },
  "language_info": {
   "codemirror_mode": {
    "name": "ipython",
    "version": 3
   },
   "file_extension": ".py",
   "mimetype": "text/x-python",
   "name": "python",
   "nbconvert_exporter": "python",
   "pygments_lexer": "ipython3",
   "version": "3.7.5"
  }
 },
 "nbformat": 4,
 "nbformat_minor": 2
}
